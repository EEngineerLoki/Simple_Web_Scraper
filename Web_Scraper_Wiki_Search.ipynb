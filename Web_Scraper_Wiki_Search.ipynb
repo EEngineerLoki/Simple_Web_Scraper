{
 "cells": [
  {
   "cell_type": "code",
   "execution_count": 2,
   "metadata": {},
   "outputs": [],
   "source": [
    "from bs4 import BeautifulSoup\n",
    "import requests\n",
    "import string"
   ]
  },
  {
   "cell_type": "code",
   "execution_count": 3,
   "metadata": {},
   "outputs": [],
   "source": [
    "url = ''\n",
    "\n",
    "def wikipediaSearch(url):\n",
    "    Enter = input('Search: ')\n",
    "    txt = string.capwords(Enter)\n",
    "    lists = txt.split()\n",
    "    word = '_'.join(lists)\n",
    "    url = 'https://en.wikipedia.org/wiki/'+word\n",
    "\n",
    "    url_open = requests.get(url)\n",
    "    soup = BeautifulSoup(url_open.content, 'html.parser')\n",
    "    details = soup('table', {'class' : 'infobox'})\n",
    "    for i in details:\n",
    "        a = i.find_all('tr')\n",
    "        for j in a:\n",
    "            heading = j.find_all('th')\n",
    "            detail = j.find_all('td')\n",
    "            if heading is not None and detail is not None:\n",
    "                for x,y in zip(heading, detail):\n",
    "                    print('{} : {}'.format(x.text, y.text))\n",
    "                    print('------------------------')\n",
    "    for i in range(1,3):\n",
    "        print(soup('p')[i].text)"
   ]
  },
  {
   "cell_type": "code",
   "execution_count": 7,
   "metadata": {},
   "outputs": [
    {
     "name": "stdout",
     "output_type": "stream",
     "text": [
      "Other names : flu, the flu, grippe (French for flu)\n",
      "------------------------\n",
      "Specialty : Infectious disease\n",
      "------------------------\n",
      "Symptoms : Fever, runny nose, sore throat, muscle pain, headache, coughing, fatigue\n",
      "------------------------\n",
      "Usual onset : 1–4 days after exposure\n",
      "------------------------\n",
      "Duration : 2–8 days\n",
      "------------------------\n",
      "Causes : Influenza viruses\n",
      "------------------------\n",
      "Prevention : Hand washing, flu vaccines\n",
      "------------------------\n",
      "Medication : Antiviral drugs such as oseltamivir\n",
      "------------------------\n",
      "Frequency : 3–5 million severe cases per year[1][2]\n",
      "------------------------\n",
      "Deaths : >290,000–650,000 deaths per year[3][4]\n",
      "------------------------\n",
      "Influenza, commonly known as \"the flu\" or just \"flu\", is an infectious disease caused by influenza viruses. Symptoms range from mild to severe and often include fever, runny nose, sore throat, muscle pain, headache, coughing, and fatigue. These symptoms begin one to four (typically two) days after exposure to the virus and last for about two to eight days. Diarrhea and vomiting can occur, particularly in children. Influenza may progress to pneumonia from the virus or a subsequent bacterial infection. Other complications include acute respiratory distress syndrome, meningitis, encephalitis, and worsening of pre-existing health problems such as asthma and cardiovascular disease.\n",
      "\n",
      "There are four types of influenza virus: types A, B, C, and D. Aquatic birds are the primary source of influenza A virus (IAV), which is also widespread in various mammals, including humans and pigs. Influenza B virus (IBV) and influenza C virus (ICV) primarily infect humans, and influenza D virus (IDV) is found in cattle and pigs. Influenza A virus and influenza B virus circulate in humans and cause seasonal epidemics, and influenza C virus causes a mild infection, primarily in children. Influenza D virus can infect humans but is not known to cause illness. In humans, influenza viruses are primarily transmitted through respiratory droplets from coughing and sneezing. Transmission through aerosols and surfaces contaminated by the virus also occur.\n",
      "\n"
     ]
    }
   ],
   "source": [
    "wikipediaSearch(url)"
   ]
  }
 ],
 "metadata": {
  "kernelspec": {
   "display_name": "Python 3",
   "language": "python",
   "name": "python3"
  },
  "language_info": {
   "codemirror_mode": {
    "name": "ipython",
    "version": 3
   },
   "file_extension": ".py",
   "mimetype": "text/x-python",
   "name": "python",
   "nbconvert_exporter": "python",
   "pygments_lexer": "ipython3",
   "version": "3.10.11"
  }
 },
 "nbformat": 4,
 "nbformat_minor": 2
}
